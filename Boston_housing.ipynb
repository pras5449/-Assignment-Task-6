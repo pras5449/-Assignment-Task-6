{
  "nbformat": 4,
  "nbformat_minor": 0,
  "metadata": {
    "colab": {
      "provenance": [],
      "include_colab_link": true
    },
    "kernelspec": {
      "name": "python3",
      "display_name": "Python 3"
    },
    "language_info": {
      "name": "python"
    }
  },
  "cells": [
    {
      "cell_type": "markdown",
      "metadata": {
        "id": "view-in-github",
        "colab_type": "text"
      },
      "source": [
        "<a href=\"https://colab.research.google.com/github/pras5449/-Assignment-Task-6/blob/main/Boston_housing.ipynb\" target=\"_parent\"><img src=\"https://colab.research.google.com/assets/colab-badge.svg\" alt=\"Open In Colab\"/></a>"
      ]
    },
    {
      "cell_type": "markdown",
      "source": [
        "**NumPy library would be required, so code begins by importing it**"
      ],
      "metadata": {
        "id": "FqH0WxK-MjC5"
      }
    },
    {
      "cell_type": "code",
      "execution_count": null,
      "metadata": {
        "id": "Ug-6eXTzjkP3"
      },
      "outputs": [],
      "source": [
        "import numpy as np"
      ]
    },
    {
      "cell_type": "markdown",
      "source": [
        "**Import phi and phi_test from train and test datasets using NumPy's loadtxt function**"
      ],
      "metadata": {
        "id": "PFhB1rbhMjyT"
      }
    },
    {
      "cell_type": "code",
      "source": [
        "phi = np.loadtxt('/content/train.csv', dtype='float', delimiter=',', skiprows=1, usecols=list(range(1, 14)))\n",
        "phi_tst = np.loadtxt('/content/test.csv', dtype='float', delimiter=',',skiprows=1, usecols=list(range(1, 14)))"
      ],
      "metadata": {
        "id": "dhfXuCLFoqaQ",
        "colab": {
          "base_uri": "https://localhost:8080/",
          "height": 72
        },
        "outputId": "32f03798-70bf-4474-f956-92bfc0779751"
      },
      "execution_count": null,
      "outputs": [
        {
          "output_type": "display_data",
          "data": {
            "text/plain": [
              "array([4.5440e-02, 0.0000e+00, 3.2400e+00, 0.0000e+00, 4.6000e-01,\n",
              "       6.1440e+00, 3.2200e+01, 5.8736e+00, 4.0000e+00, 4.3000e+02,\n",
              "       1.6900e+01, 3.6857e+02, 9.0900e+00])"
            ]
          },
          "metadata": {}
        }
      ]
    },
    {
      "cell_type": "markdown",
      "source": [
        "**Import y from train dataset using the loadtxt function**"
      ],
      "metadata": {
        "id": "K-GjnL1aM8H9"
      }
    },
    {
      "cell_type": "code",
      "source": [
        "y = np.loadtxt('/content/train.csv', dtype='float', delimiter=',', skiprows=1, usecols=14, ndmin=2)"
      ],
      "metadata": {
        "id": "9U1ed4NYBfx8"
      },
      "execution_count": null,
      "outputs": []
    },
    {
      "cell_type": "markdown",
      "source": [
        "**Concatenate coloumn of 1s to right of phi and phi_test**"
      ],
      "metadata": {
        "id": "L5Xv71uVNAkZ"
      }
    },
    {
      "cell_type": "code",
      "source": [
        "phi_tst = np.concatenate((phi_tst, np.ones((105, 1))), axis=1)\n",
        "phi = np.concatenate((phi, np.ones((400, 1))), axis=1)"
      ],
      "metadata": {
        "id": "izdKfSv4G755"
      },
      "execution_count": null,
      "outputs": []
    },
    {
      "cell_type": "markdown",
      "source": [
        "**Apply min max scaling on each coloumn of phi and phi_test**"
      ],
      "metadata": {
        "id": "Z8fqgFGbNNHe"
      }
    },
    {
      "cell_type": "code",
      "source": [
        "for i in range(0, 13):\n",
        "    cl_mx = max(phi[:, i])\n",
        "    cl_mn = min(phi[:, i])\n",
        "    phi[:, i] = (phi[:, i] - cl_mn) / (cl_mx - cl_mn)\n",
        "    phi_tst[:, i] = (phi_tst[:, i] - cl_mn) / (cl_mx - cl_mn)"
      ],
      "metadata": {
        "id": "GCx5yOLZNWA7"
      },
      "execution_count": null,
      "outputs": []
    },
    {
      "cell_type": "markdown",
      "source": [
        "**Apply log scaling on y**"
      ],
      "metadata": {
        "id": "cqw_7gXeNe2z"
      }
    },
    {
      "cell_type": "code",
      "source": [
        "y = np.log(y) # Taking log for y values"
      ],
      "metadata": {
        "id": "6DfjqRflNdWa"
      },
      "execution_count": null,
      "outputs": []
    },
    {
      "cell_type": "markdown",
      "source": [
        "**Define a function to calculate change in error function based on phi, w and p norm**"
      ],
      "metadata": {
        "id": "aGo0_NI6PQ0F"
      }
    },
    {
      "cell_type": "code",
      "source": [
        "w = np.zeros((14, 1))\n",
        "w"
      ],
      "metadata": {
        "colab": {
          "base_uri": "https://localhost:8080/"
        },
        "id": "Zf-mnUWvPYa0",
        "outputId": "74a48a33-2be4-4f9c-ead0-743b1d3cbc19"
      },
      "execution_count": null,
      "outputs": [
        {
          "output_type": "execute_result",
          "data": {
            "text/plain": [
              "array([[0.],\n",
              "       [0.],\n",
              "       [0.],\n",
              "       [0.],\n",
              "       [0.],\n",
              "       [0.],\n",
              "       [0.],\n",
              "       [0.],\n",
              "       [0.],\n",
              "       [0.],\n",
              "       [0.],\n",
              "       [0.],\n",
              "       [0.],\n",
              "       [0.]])"
            ]
          },
          "metadata": {},
          "execution_count": 75
        }
      ]
    },
    {
      "cell_type": "code",
      "source": [
        "phi"
      ],
      "metadata": {
        "colab": {
          "base_uri": "https://localhost:8080/"
        },
        "id": "cptLwX4LS1Ba",
        "outputId": "8e6ca5c5-6b0d-4e7b-bebd-635ac0b5e4c4"
      },
      "execution_count": null,
      "outputs": [
        {
          "output_type": "execute_result",
          "data": {
            "text/plain": [
              "array([[9.55770e-01, 0.00000e+00, 8.14000e+00, ..., 3.06380e+02,\n",
              "        1.72800e+01, 1.00000e+00],\n",
              "       [2.87500e-02, 2.80000e+01, 1.50400e+01, ..., 3.96330e+02,\n",
              "        6.21000e+00, 1.00000e+00],\n",
              "       [1.22358e+00, 0.00000e+00, 1.95800e+01, ..., 3.63430e+02,\n",
              "        4.59000e+00, 1.00000e+00],\n",
              "       ...,\n",
              "       [6.65492e+00, 0.00000e+00, 1.81000e+01, ..., 3.96900e+02,\n",
              "        1.39900e+01, 1.00000e+00],\n",
              "       [1.31170e-01, 0.00000e+00, 8.56000e+00, ..., 3.87690e+02,\n",
              "        1.40900e+01, 1.00000e+00],\n",
              "       [6.46600e-02, 7.00000e+01, 2.24000e+00, ..., 3.68240e+02,\n",
              "        4.97000e+00, 1.00000e+00]])"
            ]
          },
          "metadata": {},
          "execution_count": 78
        }
      ]
    },
    {
      "cell_type": "code",
      "source": [
        "np.transpose(phi)"
      ],
      "metadata": {
        "colab": {
          "base_uri": "https://localhost:8080/"
        },
        "id": "lZH6bfOiP5F2",
        "outputId": "2b419a5c-df31-495e-f3c8-7d7b3b8944bf"
      },
      "execution_count": null,
      "outputs": [
        {
          "output_type": "execute_result",
          "data": {
            "text/plain": [
              "array([[9.55770e-01, 2.87500e-02, 1.22358e+00, ..., 6.65492e+00,\n",
              "        1.31170e-01, 6.46600e-02],\n",
              "       [0.00000e+00, 2.80000e+01, 0.00000e+00, ..., 0.00000e+00,\n",
              "        0.00000e+00, 7.00000e+01],\n",
              "       [8.14000e+00, 1.50400e+01, 1.95800e+01, ..., 1.81000e+01,\n",
              "        8.56000e+00, 2.24000e+00],\n",
              "       ...,\n",
              "       [3.06380e+02, 3.96330e+02, 3.63430e+02, ..., 3.96900e+02,\n",
              "        3.87690e+02, 3.68240e+02],\n",
              "       [1.72800e+01, 6.21000e+00, 4.59000e+00, ..., 1.39900e+01,\n",
              "        1.40900e+01, 4.97000e+00],\n",
              "       [1.00000e+00, 1.00000e+00, 1.00000e+00, ..., 1.00000e+00,\n",
              "        1.00000e+00, 1.00000e+00]])"
            ]
          },
          "metadata": {},
          "execution_count": 76
        }
      ]
    },
    {
      "cell_type": "code",
      "source": [
        "np.dot(np.transpose(phi), phi)"
      ],
      "metadata": {
        "colab": {
          "base_uri": "https://localhost:8080/"
        },
        "id": "aCeEgW_jSnA6",
        "outputId": "cd75cb0b-39ee-465a-acda-7546d38bfe86"
      },
      "execution_count": null,
      "outputs": [
        {
          "output_type": "execute_result",
          "data": {
            "text/plain": [
              "array([[3.90920096e+04, 3.68717740e+02, 2.66920393e+04, 5.14898800e+01,\n",
              "        1.00911724e+03, 8.92229686e+03, 1.38969707e+05, 2.80865885e+03,\n",
              "        3.38507209e+04, 9.64771585e+05, 2.99777625e+04, 4.26921496e+05,\n",
              "        3.06956108e+04, 1.50287637e+03],\n",
              "       [3.68717740e+02, 2.55484500e+05, 1.54612550e+04, 2.30000000e+02,\n",
              "        1.90301675e+03, 2.94834425e+04, 1.55663850e+05, 2.95602334e+04,\n",
              "        1.77315000e+04, 1.30857750e+06, 7.37693500e+04, 1.70470885e+06,\n",
              "        2.92295250e+04, 4.38800000e+03],\n",
              "       [2.66920393e+04, 1.54612550e+04, 6.65535331e+04, 3.70580000e+02,\n",
              "        2.65788291e+03, 2.67556893e+04, 3.46847031e+05, 1.26578360e+04,\n",
              "        5.58288000e+04, 2.10559357e+06, 8.29241190e+04, 1.49235971e+06,\n",
              "        6.77147176e+04, 4.37457000e+03],\n",
              "       [5.14898800e+01, 2.30000000e+02, 3.70580000e+02, 2.90000000e+01,\n",
              "        1.70369000e+01, 1.89185000e+02, 2.21950000e+03, 8.82278000e+01,\n",
              "        2.53000000e+02, 1.09160000e+04, 5.04700000e+02, 1.07901900e+04,\n",
              "        3.26080000e+02, 2.90000000e+01],\n",
              "       [1.00911724e+03, 1.90301675e+03, 2.65788291e+03, 1.70369000e+01,\n",
              "        1.27564090e+02, 1.38207759e+03, 1.60188149e+04, 7.69042814e+02,\n",
              "        2.33378550e+03, 9.44334648e+04, 4.09708809e+03, 7.79576239e+04,\n",
              "        3.00798256e+03, 2.21126600e+02],\n",
              "       [8.92229686e+03, 2.94834425e+04, 2.67556893e+04, 1.89185000e+02,\n",
              "        1.38207759e+03, 1.60376287e+04, 1.69763869e+05, 9.71672326e+03,\n",
              "        2.33482160e+04, 1.00298938e+06, 4.62541349e+04, 9.07661885e+05,\n",
              "        3.05891446e+04, 2.51686600e+03],\n",
              "       [1.38969707e+05, 1.55663850e+05, 3.46847031e+05, 2.21950000e+03,\n",
              "        1.60188149e+04, 1.69763869e+05, 2.17580170e+06, 8.58962430e+04,\n",
              "        3.02706600e+05, 1.19569783e+07, 5.08434810e+05, 9.51974417e+06,\n",
              "        3.93490373e+05, 2.72344000e+04],\n",
              "       [2.80865885e+03, 2.95602334e+04, 1.26578360e+04, 8.82278000e+01,\n",
              "        7.69042814e+02, 9.71672326e+03, 8.58962430e+04, 7.64969627e+03,\n",
              "        1.08192773e+04, 5.41788871e+05, 2.78615371e+04, 5.69393267e+05,\n",
              "        1.62679946e+04, 1.52778470e+03],\n",
              "       [3.38507209e+04, 1.77315000e+04, 5.58288000e+04, 2.53000000e+02,\n",
              "        2.33378550e+03, 2.33482160e+04, 3.02706600e+05, 1.08192773e+04,\n",
              "        6.59290000e+04, 2.06417700e+06, 7.32845000e+04, 1.24153080e+06,\n",
              "        6.05295000e+04, 3.78500000e+03],\n",
              "       [9.64771585e+05, 1.30857750e+06, 2.10559357e+06, 1.09160000e+04,\n",
              "        9.44334648e+04, 1.00298938e+06, 1.19569783e+07, 5.41788871e+05,\n",
              "        2.06417700e+06, 7.67055590e+07, 3.04705670e+06, 5.57083149e+07,\n",
              "        2.31562664e+06, 1.61519000e+05],\n",
              "       [2.99777625e+04, 7.37693500e+04, 8.29241190e+04, 5.04700000e+02,\n",
              "        4.09708809e+03, 4.62541349e+04, 5.08434810e+05, 2.78615371e+04,\n",
              "        7.32845000e+04, 3.04705670e+06, 1.38135000e+05, 2.64248246e+06,\n",
              "        9.57188500e+04, 7.38360000e+03],\n",
              "       [4.26921496e+05, 1.70470885e+06, 1.49235971e+06, 1.07901900e+04,\n",
              "        7.79576239e+04, 9.07661885e+05, 9.51974417e+06, 5.69393267e+05,\n",
              "        1.24153080e+06, 5.57083149e+07, 2.64248246e+06, 5.46847828e+07,\n",
              "        1.73575524e+06, 1.43782150e+05],\n",
              "       [3.06956108e+04, 2.92295250e+04, 6.77147176e+04, 3.26080000e+02,\n",
              "        3.00798256e+03, 3.05891446e+04, 3.93490373e+05, 1.62679946e+04,\n",
              "        6.05295000e+04, 2.31562664e+06, 9.57188500e+04, 1.73575524e+06,\n",
              "        8.49212779e+04, 5.06741000e+03],\n",
              "       [1.50287637e+03, 4.38800000e+03, 4.37457000e+03, 2.90000000e+01,\n",
              "        2.21126600e+02, 2.51686600e+03, 2.72344000e+04, 1.52778470e+03,\n",
              "        3.78500000e+03, 1.61519000e+05, 7.38360000e+03, 1.43782150e+05,\n",
              "        5.06741000e+03, 4.00000000e+02]])"
            ]
          },
          "metadata": {},
          "execution_count": 77
        }
      ]
    }
  ]
}